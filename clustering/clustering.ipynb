{
 "cells": [
  {
   "cell_type": "code",
   "execution_count": 149,
   "id": "767c9522-8854-4e14-8ffb-d286565e1e6b",
   "metadata": {},
   "outputs": [],
   "source": [
    "import pandas as pd\n",
    "import numpy as np\n",
    "import matplotlib.pyplot as plt\n",
    "from matplotlib import pyplot\n",
    "\n",
    "import missingno\n",
    "\n",
    "from sklearn.preprocessing import StandardScaler\n",
    "from sklearn.decomposition import PCA\n",
    "from sklearn.cluster import OPTICS\n",
    "from sklearn.cluster import DBSCAN\n",
    "from sklearn.cluster import KMeans\n",
    "from sklearn.cluster import AgglomerativeClustering\n",
    "from sklearn.cluster import MeanShift, estimate_bandwidth\n",
    "from sklearn.cluster import Birch\n",
    "from sklearn.mixture import GaussianMixture\n",
    "\n",
    "\n",
    "from numpy import unique\n",
    "from numpy import where\n",
    "import enum\n",
    "\n",
    "from statsmodels.tsa.stattools import coint\n"
   ]
  },
  {
   "cell_type": "code",
   "execution_count": 150,
   "id": "24f9e20f-0a3d-4d57-b30a-c8dcb93248a0",
   "metadata": {},
   "outputs": [],
   "source": [
    "pd.set_option('display.precision', 2)"
   ]
  },
  {
   "cell_type": "markdown",
   "id": "f7fed615-fdab-46c5-a512-5f7fc63aaf2a",
   "metadata": {},
   "source": [
    "## Data Cleaning"
   ]
  },
  {
   "cell_type": "code",
   "execution_count": 151,
   "id": "7a536e77-99de-4fbc-acc9-8e8000a24856",
   "metadata": {},
   "outputs": [],
   "source": [
    "df = pd.read_csv('equity_data_full')"
   ]
  },
  {
   "cell_type": "code",
   "execution_count": 152,
   "id": "feafc2dc-41d6-4333-b8ff-0a9b03c599f2",
   "metadata": {},
   "outputs": [
    {
     "data": {
      "text/html": [
       "<div>\n",
       "<style scoped>\n",
       "    .dataframe tbody tr th:only-of-type {\n",
       "        vertical-align: middle;\n",
       "    }\n",
       "\n",
       "    .dataframe tbody tr th {\n",
       "        vertical-align: top;\n",
       "    }\n",
       "\n",
       "    .dataframe thead th {\n",
       "        text-align: right;\n",
       "    }\n",
       "</style>\n",
       "<table border=\"1\" class=\"dataframe\">\n",
       "  <thead>\n",
       "    <tr style=\"text-align: right;\">\n",
       "      <th></th>\n",
       "      <th>Unnamed: 0</th>\n",
       "      <th>date</th>\n",
       "      <th>open</th>\n",
       "      <th>high</th>\n",
       "      <th>low</th>\n",
       "      <th>close</th>\n",
       "      <th>adjclose</th>\n",
       "      <th>volume</th>\n",
       "      <th>ticker</th>\n",
       "    </tr>\n",
       "  </thead>\n",
       "  <tbody>\n",
       "    <tr>\n",
       "      <th>0</th>\n",
       "      <td>0</td>\n",
       "      <td>2010-01-04</td>\n",
       "      <td>22.45</td>\n",
       "      <td>22.62</td>\n",
       "      <td>22.26</td>\n",
       "      <td>22.38</td>\n",
       "      <td>20.23</td>\n",
       "      <td>3816656</td>\n",
       "      <td>A</td>\n",
       "    </tr>\n",
       "    <tr>\n",
       "      <th>1</th>\n",
       "      <td>1</td>\n",
       "      <td>2010-01-05</td>\n",
       "      <td>22.32</td>\n",
       "      <td>22.33</td>\n",
       "      <td>22.00</td>\n",
       "      <td>22.14</td>\n",
       "      <td>20.01</td>\n",
       "      <td>4187236</td>\n",
       "      <td>A</td>\n",
       "    </tr>\n",
       "    <tr>\n",
       "      <th>2</th>\n",
       "      <td>2</td>\n",
       "      <td>2010-01-06</td>\n",
       "      <td>22.06</td>\n",
       "      <td>22.17</td>\n",
       "      <td>22.00</td>\n",
       "      <td>22.06</td>\n",
       "      <td>19.94</td>\n",
       "      <td>3244780</td>\n",
       "      <td>A</td>\n",
       "    </tr>\n",
       "    <tr>\n",
       "      <th>3</th>\n",
       "      <td>3</td>\n",
       "      <td>2010-01-07</td>\n",
       "      <td>22.01</td>\n",
       "      <td>22.04</td>\n",
       "      <td>21.81</td>\n",
       "      <td>22.03</td>\n",
       "      <td>19.92</td>\n",
       "      <td>3096026</td>\n",
       "      <td>A</td>\n",
       "    </tr>\n",
       "    <tr>\n",
       "      <th>4</th>\n",
       "      <td>4</td>\n",
       "      <td>2010-01-08</td>\n",
       "      <td>21.91</td>\n",
       "      <td>22.06</td>\n",
       "      <td>21.74</td>\n",
       "      <td>22.02</td>\n",
       "      <td>19.91</td>\n",
       "      <td>3735010</td>\n",
       "      <td>A</td>\n",
       "    </tr>\n",
       "  </tbody>\n",
       "</table>\n",
       "</div>"
      ],
      "text/plain": [
       "   Unnamed: 0        date   open   high    low  close  adjclose   volume  \\\n",
       "0           0  2010-01-04  22.45  22.62  22.26  22.38     20.23  3816656   \n",
       "1           1  2010-01-05  22.32  22.33  22.00  22.14     20.01  4187236   \n",
       "2           2  2010-01-06  22.06  22.17  22.00  22.06     19.94  3244780   \n",
       "3           3  2010-01-07  22.01  22.04  21.81  22.03     19.92  3096026   \n",
       "4           4  2010-01-08  21.91  22.06  21.74  22.02     19.91  3735010   \n",
       "\n",
       "  ticker  \n",
       "0      A  \n",
       "1      A  \n",
       "2      A  \n",
       "3      A  \n",
       "4      A  "
      ]
     },
     "execution_count": 152,
     "metadata": {},
     "output_type": "execute_result"
    }
   ],
   "source": [
    "df.head()"
   ]
  },
  {
   "cell_type": "code",
   "execution_count": 153,
   "id": "0d1be921-a52d-4121-9a20-83287b4e0b8c",
   "metadata": {},
   "outputs": [
    {
     "data": {
      "text/html": [
       "<div>\n",
       "<style scoped>\n",
       "    .dataframe tbody tr th:only-of-type {\n",
       "        vertical-align: middle;\n",
       "    }\n",
       "\n",
       "    .dataframe tbody tr th {\n",
       "        vertical-align: top;\n",
       "    }\n",
       "\n",
       "    .dataframe thead th {\n",
       "        text-align: right;\n",
       "    }\n",
       "</style>\n",
       "<table border=\"1\" class=\"dataframe\">\n",
       "  <thead>\n",
       "    <tr style=\"text-align: right;\">\n",
       "      <th>ticker</th>\n",
       "      <th>A</th>\n",
       "      <th>AAL</th>\n",
       "      <th>AAP</th>\n",
       "      <th>AAPL</th>\n",
       "      <th>ABBV</th>\n",
       "      <th>ABC</th>\n",
       "      <th>ABMD</th>\n",
       "      <th>ABT</th>\n",
       "      <th>ACN</th>\n",
       "      <th>ADBE</th>\n",
       "      <th>...</th>\n",
       "      <th>XEL</th>\n",
       "      <th>XLNX</th>\n",
       "      <th>XOM</th>\n",
       "      <th>XRAY</th>\n",
       "      <th>XYL</th>\n",
       "      <th>YUM</th>\n",
       "      <th>ZBH</th>\n",
       "      <th>ZBRA</th>\n",
       "      <th>ZION</th>\n",
       "      <th>ZTS</th>\n",
       "    </tr>\n",
       "    <tr>\n",
       "      <th>date</th>\n",
       "      <th></th>\n",
       "      <th></th>\n",
       "      <th></th>\n",
       "      <th></th>\n",
       "      <th></th>\n",
       "      <th></th>\n",
       "      <th></th>\n",
       "      <th></th>\n",
       "      <th></th>\n",
       "      <th></th>\n",
       "      <th></th>\n",
       "      <th></th>\n",
       "      <th></th>\n",
       "      <th></th>\n",
       "      <th></th>\n",
       "      <th></th>\n",
       "      <th></th>\n",
       "      <th></th>\n",
       "      <th></th>\n",
       "      <th></th>\n",
       "      <th></th>\n",
       "    </tr>\n",
       "  </thead>\n",
       "  <tbody>\n",
       "    <tr>\n",
       "      <th>2010-01-04</th>\n",
       "      <td>20.23</td>\n",
       "      <td>19.49</td>\n",
       "      <td>38.66</td>\n",
       "      <td>29.15</td>\n",
       "      <td>NaN</td>\n",
       "      <td>22.17</td>\n",
       "      <td>8.74</td>\n",
       "      <td>17.69</td>\n",
       "      <td>33.42</td>\n",
       "      <td>37.09</td>\n",
       "      <td>...</td>\n",
       "      <td>13.98</td>\n",
       "      <td>19.79</td>\n",
       "      <td>43.66</td>\n",
       "      <td>32.73</td>\n",
       "      <td>NaN</td>\n",
       "      <td>18.84</td>\n",
       "      <td>55.25</td>\n",
       "      <td>28.67</td>\n",
       "      <td>11.43</td>\n",
       "      <td>NaN</td>\n",
       "    </tr>\n",
       "    <tr>\n",
       "      <th>2010-01-05</th>\n",
       "      <td>20.01</td>\n",
       "      <td>21.10</td>\n",
       "      <td>38.43</td>\n",
       "      <td>29.20</td>\n",
       "      <td>NaN</td>\n",
       "      <td>22.02</td>\n",
       "      <td>8.53</td>\n",
       "      <td>17.55</td>\n",
       "      <td>33.63</td>\n",
       "      <td>37.70</td>\n",
       "      <td>...</td>\n",
       "      <td>13.81</td>\n",
       "      <td>19.54</td>\n",
       "      <td>43.83</td>\n",
       "      <td>32.34</td>\n",
       "      <td>NaN</td>\n",
       "      <td>18.78</td>\n",
       "      <td>57.00</td>\n",
       "      <td>28.62</td>\n",
       "      <td>11.84</td>\n",
       "      <td>NaN</td>\n",
       "    </tr>\n",
       "    <tr>\n",
       "      <th>2010-01-06</th>\n",
       "      <td>19.94</td>\n",
       "      <td>20.47</td>\n",
       "      <td>38.76</td>\n",
       "      <td>28.73</td>\n",
       "      <td>NaN</td>\n",
       "      <td>21.81</td>\n",
       "      <td>8.40</td>\n",
       "      <td>17.64</td>\n",
       "      <td>33.98</td>\n",
       "      <td>37.62</td>\n",
       "      <td>...</td>\n",
       "      <td>13.84</td>\n",
       "      <td>19.41</td>\n",
       "      <td>44.21</td>\n",
       "      <td>32.55</td>\n",
       "      <td>NaN</td>\n",
       "      <td>18.64</td>\n",
       "      <td>56.98</td>\n",
       "      <td>28.40</td>\n",
       "      <td>12.87</td>\n",
       "      <td>NaN</td>\n",
       "    </tr>\n",
       "    <tr>\n",
       "      <th>2010-01-07</th>\n",
       "      <td>19.92</td>\n",
       "      <td>20.82</td>\n",
       "      <td>38.75</td>\n",
       "      <td>28.68</td>\n",
       "      <td>NaN</td>\n",
       "      <td>21.46</td>\n",
       "      <td>8.40</td>\n",
       "      <td>17.79</td>\n",
       "      <td>33.95</td>\n",
       "      <td>36.89</td>\n",
       "      <td>...</td>\n",
       "      <td>13.78</td>\n",
       "      <td>19.22</td>\n",
       "      <td>44.07</td>\n",
       "      <td>32.98</td>\n",
       "      <td>NaN</td>\n",
       "      <td>18.64</td>\n",
       "      <td>58.29</td>\n",
       "      <td>27.69</td>\n",
       "      <td>14.31</td>\n",
       "      <td>NaN</td>\n",
       "    </tr>\n",
       "    <tr>\n",
       "      <th>2010-01-08</th>\n",
       "      <td>19.91</td>\n",
       "      <td>20.47</td>\n",
       "      <td>38.91</td>\n",
       "      <td>28.87</td>\n",
       "      <td>NaN</td>\n",
       "      <td>21.69</td>\n",
       "      <td>8.23</td>\n",
       "      <td>17.88</td>\n",
       "      <td>33.82</td>\n",
       "      <td>36.69</td>\n",
       "      <td>...</td>\n",
       "      <td>13.79</td>\n",
       "      <td>19.50</td>\n",
       "      <td>43.90</td>\n",
       "      <td>32.98</td>\n",
       "      <td>NaN</td>\n",
       "      <td>18.64</td>\n",
       "      <td>57.06</td>\n",
       "      <td>27.60</td>\n",
       "      <td>14.08</td>\n",
       "      <td>NaN</td>\n",
       "    </tr>\n",
       "  </tbody>\n",
       "</table>\n",
       "<p>5 rows × 505 columns</p>\n",
       "</div>"
      ],
      "text/plain": [
       "ticker          A    AAL    AAP   AAPL  ABBV    ABC  ABMD    ABT    ACN  \\\n",
       "date                                                                      \n",
       "2010-01-04  20.23  19.49  38.66  29.15   NaN  22.17  8.74  17.69  33.42   \n",
       "2010-01-05  20.01  21.10  38.43  29.20   NaN  22.02  8.53  17.55  33.63   \n",
       "2010-01-06  19.94  20.47  38.76  28.73   NaN  21.81  8.40  17.64  33.98   \n",
       "2010-01-07  19.92  20.82  38.75  28.68   NaN  21.46  8.40  17.79  33.95   \n",
       "2010-01-08  19.91  20.47  38.91  28.87   NaN  21.69  8.23  17.88  33.82   \n",
       "\n",
       "ticker       ADBE  ...    XEL   XLNX    XOM   XRAY  XYL    YUM    ZBH   ZBRA  \\\n",
       "date               ...                                                         \n",
       "2010-01-04  37.09  ...  13.98  19.79  43.66  32.73  NaN  18.84  55.25  28.67   \n",
       "2010-01-05  37.70  ...  13.81  19.54  43.83  32.34  NaN  18.78  57.00  28.62   \n",
       "2010-01-06  37.62  ...  13.84  19.41  44.21  32.55  NaN  18.64  56.98  28.40   \n",
       "2010-01-07  36.89  ...  13.78  19.22  44.07  32.98  NaN  18.64  58.29  27.69   \n",
       "2010-01-08  36.69  ...  13.79  19.50  43.90  32.98  NaN  18.64  57.06  27.60   \n",
       "\n",
       "ticker       ZION  ZTS  \n",
       "date                    \n",
       "2010-01-04  11.43  NaN  \n",
       "2010-01-05  11.84  NaN  \n",
       "2010-01-06  12.87  NaN  \n",
       "2010-01-07  14.31  NaN  \n",
       "2010-01-08  14.08  NaN  \n",
       "\n",
       "[5 rows x 505 columns]"
      ]
     },
     "execution_count": 153,
     "metadata": {},
     "output_type": "execute_result"
    }
   ],
   "source": [
    "data = df.pivot(index='date', columns = 'ticker', values = 'adjclose')\n",
    "data.head()"
   ]
  },
  {
   "cell_type": "code",
   "execution_count": 154,
   "id": "76e4b130-774c-4671-890a-60dac6a670b3",
   "metadata": {},
   "outputs": [
    {
     "name": "stdout",
     "output_type": "stream",
     "text": [
      "Data Shape before cleaning = (3007, 505)\n",
      "Data Shape after cleaning = (3007, 443)\n"
     ]
    }
   ],
   "source": [
    "print('Data Shape before cleaning =', data.shape)\n",
    "\n",
    "missing_percentage = data.isnull().mean().sort_values(ascending=False)\n",
    "missing_percentage.head(10)\n",
    "dropped_list = sorted(list(missing_percentage[missing_percentage > 0.0001].index))\n",
    "data.drop(labels=dropped_list, axis=1, inplace=True)\n",
    "\n",
    "print('Data Shape after cleaning =', data.shape)"
   ]
  },
  {
   "cell_type": "code",
   "execution_count": 155,
   "id": "f7a56109-f62f-4933-9d7d-377da3bd8792",
   "metadata": {
    "collapsed": true,
    "jupyter": {
     "outputs_hidden": true
    },
    "tags": []
   },
   "outputs": [
    {
     "data": {
      "text/plain": [
       "<AxesSubplot:>"
      ]
     },
     "execution_count": 155,
     "metadata": {},
     "output_type": "execute_result"
    },
    {
     "data": {
      "image/png": "[encoded data removed]",
      "text/plain": [
       "<Figure size 1800x720 with 2 Axes>"
      ]
     },
     "metadata": {
      "needs_background": "light"
     },
     "output_type": "display_data"
    }
   ],
   "source": [
    "df = df.fillna(method='ffill')\n",
    "missingno.matrix(data)"
   ]
  },
  {
   "cell_type": "code",
   "execution_count": 156,
   "id": "2980ccbf-e38f-48ae-b0a4-68597cc6d01b",
   "metadata": {},
   "outputs": [],
   "source": [
    "adjusted_returns = data.pct_change()\n",
    "adjusted_returns.drop(index=adjusted_returns.index[0], axis=0, inplace=True)"
   ]
  },
  {
   "cell_type": "markdown",
   "id": "ba98c690-e450-4fff-afe9-97320ef48a6f",
   "metadata": {},
   "source": [
    "## Dimentionality Reduction"
   ]
  },
  {
   "cell_type": "code",
   "execution_count": 157,
   "id": "25ac043b-79bf-4902-b08a-b72968a03f65",
   "metadata": {},
   "outputs": [],
   "source": [
    "# Preparing the scaler\n",
    "scale = StandardScaler().fit(adjusted_returns)\n",
    "\n",
    "# Fitting the scaler\n",
    "scale_adjusted_returns = pd.DataFrame(scale.fit_transform(adjusted_returns), columns = adjusted_returns.columns, index=adjusted_returns.index)"
   ]
  },
  {
   "cell_type": "code",
   "execution_count": 158,
   "id": "17688a28-ee4a-4270-83e4-42d011784620",
   "metadata": {},
   "outputs": [],
   "source": [
    "pca = PCA(n_components=10)\n",
    "principalComponents = pca.fit_transform(scale_adjusted_returns.T)\n",
    "principalDf = pd.DataFrame(data=principalComponents)"
   ]
  },
  {
   "cell_type": "code",
   "execution_count": null,
   "id": "ea45a380-ed5d-4cf9-9844-f989a08a7302",
   "metadata": {},
   "outputs": [
    {
     "data": {
      "image/png": "[encoded data removed]",
      "text/plain": [
       "<Figure size 1152x1152 with 1 Axes>"
      ]
     },
     "metadata": {
      "needs_background": "light"
     },
     "output_type": "display_data"
    }
   ],
   "source": [
    "fig = plt.figure(figsize=(16, 16))\n",
    "ax = fig.add_subplot(1,1,1)\n",
    "\n",
    "ax.set_xlabel('Principal Component 1', fontsize=15)\n",
    "ax.set_ylabel('Principal Component 2', fontsize=15)\n",
    "\n",
    "ax.scatter(principalDf[0], principalDf[1], s=50)\n",
    "\n",
    "ax.grid()"
   ]
  },
  {
   "cell_type": "code",
   "execution_count": null,
   "id": "fb47b3e2",
   "metadata": {},
   "outputs": [
    {
     "data": {
      "text/plain": [
       "array([0.07481652, 0.05466453, 0.02824756, 0.0240259 , 0.0197397 ,\n",
       "       0.01724163, 0.01472523, 0.01438074, 0.01254161, 0.01168423])"
      ]
     },
     "execution_count": 138,
     "metadata": {},
     "output_type": "execute_result"
    }
   ],
   "source": [
    "pca.explained_variance_ratio_"
   ]
  },
  {
   "cell_type": "markdown",
   "id": "5c819728-06bc-4b43-9083-4dccdd8c0964",
   "metadata": {},
   "source": [
    "## Unsupervised Learning"
   ]
  },
  {
   "cell_type": "code",
   "execution_count": null,
   "id": "525fac9e",
   "metadata": {},
   "outputs": [],
   "source": [
    "class Clustering_Algo(enum.Enum):\n",
    "    OPTICS = \"OPTICS\"\n",
    "    DBSCAN = \"DBSCAN\"\n",
    "    KMEANS = \"KMEANS\"\n",
    "    AGG_CLUST = \"AGG_CLUST\"\n",
    "    MEAN_SHIFT = \"MEAN_SHIFT\"\n",
    "    BIRCH = \"BIRCH\"\n",
    "    GAUSSIAN_MIX = \"GAUSSIAN_MIX\""
   ]
  },
  {
   "cell_type": "code",
   "execution_count": null,
   "id": "68c3eeeb",
   "metadata": {},
   "outputs": [],
   "source": [
    "CLUSTERING_ALGO = Clustering_Algo.GAUSSIAN_MIX"
   ]
  },
  {
   "cell_type": "code",
   "execution_count": null,
   "id": "ba1aa8d5",
   "metadata": {},
   "outputs": [],
   "source": [
    "if CLUSTERING_ALGO == Clustering_Algo.OPTICS:\n",
    "    model = OPTICS(eps=0.9, min_samples=3)\n",
    "elif CLUSTERING_ALGO == Clustering_Algo.DBSCAN:\n",
    "    model = DBSCAN(eps=0.9, min_samples=3)\n",
    "elif CLUSTERING_ALGO == Clustering_Algo.KMEANS:\n",
    "    model = KMeans(n_clusters=200)\n",
    "elif CLUSTERING_ALGO == Clustering_Algo.AGG_CLUST:\n",
    "    model = AgglomerativeClustering(n_clusters=500)\n",
    "elif CLUSTERING_ALGO == Clustering_Algo.MEAN_SHIFT:\n",
    "    bandwidth = estimate_bandwidth(principalDf, quantile=0.4, n_samples=2000)\n",
    "    model = MeanShift(bandwidth=bandwidth, bin_seeding=True)\n",
    "elif CLUSTERING_ALGO == Clustering_Algo.BIRCH:\n",
    "    model = Birch(threshold=0.8, n_clusters=250, branching_factor=100)\n",
    "elif CLUSTERING_ALGO == Clustering_Algo.GAUSSIAN_MIX:\n",
    "    model = GaussianMixture(n_components=400)\n",
    "\n",
    "yhat = model.fit_predict(principalDf)\n",
    "clusters = unique(yhat)"
   ]
  },
  {
   "cell_type": "code",
   "execution_count": null,
   "id": "5f29572f",
   "metadata": {},
   "outputs": [
    {
     "data": {
      "image/png": "[encoded data removed]",
      "text/plain": [
       "<Figure size 1152x1152 with 1 Axes>"
      ]
     },
     "metadata": {
      "needs_background": "light"
     },
     "output_type": "display_data"
    }
   ],
   "source": [
    "pyplot.figure(figsize=(16,16))\n",
    "for cluster in clusters: \n",
    "    row = where(yhat == cluster)\n",
    "    pyplot.scatter(principalDf.iloc[row][0], principalDf.iloc[row][1])\n",
    "\n",
    "pyplot.show()"
   ]
  },
  {
   "cell_type": "markdown",
   "id": "cc1c4ec9-d232-48bd-9d04-2cd4d012b1de",
   "metadata": {},
   "source": [
    "## Pair Selection"
   ]
  },
  {
   "cell_type": "code",
   "execution_count": null,
   "id": "dbefc84b-5138-4cfb-a3e3-96b7c1e38d4b",
   "metadata": {},
   "outputs": [],
   "source": [
    "def find_cointegrated_pairs(data, significance=0.05):\n",
    "    n = data.shape[1]\n",
    "    score_matrix = np.zeros((n, n))\n",
    "    pvalue_matrix = np.ones((n, n))\n",
    "    keys = data.keys()\n",
    "\n",
    "    pairs = []\n",
    "\n",
    "    for i in range(1):\n",
    "        for j in range(i+1, n):\n",
    "            S1 = data[keys[i]]\n",
    "            S2 = data[keys[j]]\n",
    "\n",
    "            result = coint(S1, S2)\n",
    "            score = result[0]\n",
    "            pvalue = result[1]\n",
    "            \n",
    "            score_matrix[i, j] = score\n",
    "            pvalue_matrix[i, j] = pvalue\n",
    "            if pvalue < significance:\n",
    "                pairs.append((keys[i], keys[j]))\n",
    "\n",
    "    return score_matrix, pvalue_matrix, pairs"
   ]
  },
  {
   "cell_type": "code",
   "execution_count": null,
   "id": "47802ee9",
   "metadata": {},
   "outputs": [
    {
     "name": "stdout",
     "output_type": "stream",
     "text": [
      "Number of pairs:  24\n",
      "Out of those pairs, we found 47 unique tickers.\n",
      "[('CB', 'CINF'), ('IDXX', 'TECH'), ('DHR', 'TMO'), ('CPB', 'K'), ('MCO', 'SPGI'), ('EIX', 'PPL'), ('AMZN', 'CRM'), ('CMI', 'PCAR'), ('IPG', 'RHI'), ('CL', 'KMB'), ('FFIV', 'ZBRA'), ('MPWR', 'TER'), ('ADP', 'PAYX'), ('AEE', 'LNT'), ('EBAY', 'NLOK'), ('EMR', 'PH'), ('RSG', 'WM'), ('ADBE', 'ANSS'), ('AJG', 'BRO'), ('A', 'MTD'), ('AVB', 'EQR'), ('AVB', 'ESS'), ('FIS', 'FISV'), ('AON', 'WLTW')]\n"
     ]
    }
   ],
   "source": [
    "cluster_dict = {}\n",
    "for i, cluster in enumerate(clusters[1:]):\n",
    "    row = where(yhat == cluster)\n",
    "    score_matrix, pvalue_matrix, pairs = find_cointegrated_pairs(data.T.iloc[row].T)\n",
    "    cluster_dict[cluster] = {}\n",
    "    cluster_dict[cluster]['score_matrix'] = score_matrix\n",
    "    cluster_dict[cluster]['pvalue_matrix'] = pvalue_matrix\n",
    "    cluster_dict[cluster]['pairs'] = pairs\n",
    "\n",
    "pairs = []\n",
    "for cluster in cluster_dict.keys():\n",
    "    pairs.extend(cluster_dict[cluster]['pairs'])\n",
    "\n",
    "print('Number of pairs: ', len(pairs))\n",
    "print('Out of those pairs, we found %d unique tickers.' % len(np.unique(pairs)))\n",
    "print(pairs)   "
   ]
  }
 ],
 "metadata": {
  "kernelspec": {
   "display_name": "Python 3 (ipykernel)",
   "language": "python",
   "name": "python3"
  },
  "language_info": {
   "codemirror_mode": {
    "name": "ipython",
    "version": 3
   },
   "file_extension": ".py",
   "mimetype": "text/x-python",
   "name": "python",
   "nbconvert_exporter": "python",
   "pygments_lexer": "ipython3",
   "version": "3.10.4"
  }
 },
 "nbformat": 4,
 "nbformat_minor": 5
}
